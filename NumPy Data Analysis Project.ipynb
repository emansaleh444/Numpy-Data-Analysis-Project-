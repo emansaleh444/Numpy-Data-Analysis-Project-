{
 "cells": [
  {
   "cell_type": "markdown",
   "metadata": {},
   "source": [
    "# Importing NumPy"
   ]
  },
  {
   "cell_type": "markdown",
   "metadata": {},
   "source": [
    "import numpy as np"
   ]
  },
  {
   "cell_type": "markdown",
   "metadata": {},
   "source": [
    "# Load File"
   ]
  },
  {
   "cell_type": "code",
   "execution_count": 5,
   "metadata": {},
   "outputs": [],
   "source": [
    "import numpy as np"
   ]
  },
  {
   "cell_type": "code",
   "execution_count": 6,
   "metadata": {},
   "outputs": [],
   "source": [
    "iris = np.genfromtxt('D:\\Downloads\\IRIS.csv',skip_header=1, delimiter=',' ,dtype=float, encoding=None)"
   ]
  },
  {
   "cell_type": "code",
   "execution_count": 7,
   "metadata": {},
   "outputs": [
    {
     "data": {
      "text/plain": [
       "array([[5.1, 3.5, 1.4, 0.2, nan, 1. ],\n",
       "       [4.9, 3. , 1.4, 0.2, nan, 1. ],\n",
       "       [4.7, 3.2, 1.3, 0.2, nan, 1. ],\n",
       "       [4.6, 3.1, 1.5, 0.2, nan, 1. ],\n",
       "       [5. , 3.6, 1.4, 0.2, nan, 1. ],\n",
       "       [5.4, 3.9, 1.7, 0.4, nan, 1. ],\n",
       "       [4.6, 3.4, 1.4, 0.3, nan, 1. ],\n",
       "       [5. , 3.4, 1.5, 0.2, nan, 1. ],\n",
       "       [4.4, 2.9, 1.4, 0.2, nan, 1. ],\n",
       "       [4.9, 3.1, 1.5, 0.1, nan, 1. ],\n",
       "       [5.4, 3.7, 1.5, 0.2, nan, 1. ],\n",
       "       [4.8, 3.4, 1.6, 0.2, nan, 1. ],\n",
       "       [4.8, 3. , 1.4, 0.1, nan, 1. ],\n",
       "       [4.3, 3. , 1.1, 0.1, nan, 1. ],\n",
       "       [5.8, 4. , 1.2, 0.2, nan, 1. ],\n",
       "       [5.7, 4.4, 1.5, 0.4, nan, 1. ],\n",
       "       [5.4, 3.9, 1.3, 0.4, nan, 1. ],\n",
       "       [5.1, 3.5, 1.4, 0.3, nan, 1. ],\n",
       "       [5.7, 3.8, 1.7, 0.3, nan, 1. ],\n",
       "       [5.1, 3.8, 1.5, 0.3, nan, 1. ],\n",
       "       [5.4, 3.4, 1.7, 0.2, nan, 1. ],\n",
       "       [5.1, 3.7, 1.5, 0.4, nan, 1. ],\n",
       "       [4.6, 3.6, 1. , 0.2, nan, 1. ],\n",
       "       [5.1, 3.3, 1.7, 0.5, nan, 1. ],\n",
       "       [4.8, 3.4, 1.9, 0.2, nan, 1. ],\n",
       "       [5. , 3. , 1.6, 0.2, nan, 1. ],\n",
       "       [5. , 3.4, 1.6, 0.4, nan, 1. ],\n",
       "       [5.2, 3.5, 1.5, 0.2, nan, 1. ],\n",
       "       [5.2, 3.4, 1.4, 0.2, nan, 1. ],\n",
       "       [4.7, 3.2, 1.6, 0.2, nan, 1. ],\n",
       "       [4.8, 3.1, 1.6, 0.2, nan, 1. ],\n",
       "       [5.4, 3.4, 1.5, 0.4, nan, 1. ],\n",
       "       [5.2, 4.1, 1.5, 0.1, nan, 1. ],\n",
       "       [5.5, 4.2, 1.4, 0.2, nan, 1. ],\n",
       "       [4.9, 3.1, 1.5, 0.1, nan, 1. ],\n",
       "       [5. , 3.2, 1.2, 0.2, nan, 1. ],\n",
       "       [5.5, 3.5, 1.3, 0.2, nan, 1. ],\n",
       "       [4.9, 3.1, 1.5, 0.1, nan, 1. ],\n",
       "       [4.4, 3. , 1.3, 0.2, nan, 1. ],\n",
       "       [5.1, 3.4, 1.5, 0.2, nan, 1. ],\n",
       "       [5. , 3.5, 1.3, 0.3, nan, 1. ],\n",
       "       [4.5, 2.3, 1.3, 0.3, nan, 1. ],\n",
       "       [4.4, 3.2, 1.3, 0.2, nan, 1. ],\n",
       "       [5. , 3.5, 1.6, 0.6, nan, 1. ],\n",
       "       [5.1, 3.8, 1.9, 0.4, nan, 1. ],\n",
       "       [4.8, 3. , 1.4, 0.3, nan, 1. ],\n",
       "       [5.1, 3.8, 1.6, 0.2, nan, 1. ],\n",
       "       [4.6, 3.2, 1.4, 0.2, nan, 1. ],\n",
       "       [5.3, 3.7, 1.5, 0.2, nan, 1. ],\n",
       "       [5. , 3.3, 1.4, 0.2, nan, 1. ],\n",
       "       [7. , 3.2, 4.7, 1.4, nan, 2. ],\n",
       "       [6.4, 3.2, 4.5, 1.5, nan, 2. ],\n",
       "       [6.9, 3.1, 4.9, 1.5, nan, 2. ],\n",
       "       [5.5, 2.3, 4. , 1.3, nan, 2. ],\n",
       "       [6.5, 2.8, 4.6, 1.5, nan, 2. ],\n",
       "       [5.7, 2.8, 4.5, 1.3, nan, 2. ],\n",
       "       [6.3, 3.3, 4.7, 1.6, nan, 2. ],\n",
       "       [4.9, 2.4, 3.3, 1. , nan, 2. ],\n",
       "       [6.6, 2.9, 4.6, 1.3, nan, 2. ],\n",
       "       [5.2, 2.7, 3.9, 1.4, nan, 2. ],\n",
       "       [5. , 2. , 3.5, 1. , nan, 2. ],\n",
       "       [5.9, 3. , 4.2, 1.5, nan, 2. ],\n",
       "       [6. , 2.2, 4. , 1. , nan, 2. ],\n",
       "       [6.1, 2.9, 4.7, 1.4, nan, 2. ],\n",
       "       [5.6, 2.9, 3.6, 1.3, nan, 2. ],\n",
       "       [6.7, 3.1, 4.4, 1.4, nan, 2. ],\n",
       "       [5.6, 3. , 4.5, 1.5, nan, 2. ],\n",
       "       [5.8, 2.7, 4.1, 1. , nan, 2. ],\n",
       "       [6.2, 2.2, 4.5, 1.5, nan, 2. ],\n",
       "       [5.6, 2.5, 3.9, 1.1, nan, 2. ],\n",
       "       [5.9, 3.2, 4.8, 1.8, nan, 2. ],\n",
       "       [6.1, 2.8, 4. , 1.3, nan, 2. ],\n",
       "       [6.3, 2.5, 4.9, 1.5, nan, 2. ],\n",
       "       [6.1, 2.8, 4.7, 1.2, nan, 2. ],\n",
       "       [6.4, 2.9, 4.3, 1.3, nan, 2. ],\n",
       "       [6.6, 3. , 4.4, 1.4, nan, 2. ],\n",
       "       [6.8, 2.8, 4.8, 1.4, nan, 2. ],\n",
       "       [6.7, 3. , 5. , 1.7, nan, 2. ],\n",
       "       [6. , 2.9, 4.5, 1.5, nan, 2. ],\n",
       "       [5.7, 2.6, 3.5, 1. , nan, 2. ],\n",
       "       [5.5, 2.4, 3.8, 1.1, nan, 2. ],\n",
       "       [5.5, 2.4, 3.7, 1. , nan, 2. ],\n",
       "       [5.8, 2.7, 3.9, 1.2, nan, 2. ],\n",
       "       [6. , 2.7, 5.1, 1.6, nan, 2. ],\n",
       "       [5.4, 3. , 4.5, 1.5, nan, 2. ],\n",
       "       [6. , 3.4, 4.5, 1.6, nan, 2. ],\n",
       "       [6.7, 3.1, 4.7, 1.5, nan, 2. ],\n",
       "       [6.3, 2.3, 4.4, 1.3, nan, 2. ],\n",
       "       [5.6, 3. , 4.1, 1.3, nan, 2. ],\n",
       "       [5.5, 2.5, 4. , 1.3, nan, 2. ],\n",
       "       [5.5, 2.6, 4.4, 1.2, nan, 2. ],\n",
       "       [6.1, 3. , 4.6, 1.4, nan, 2. ],\n",
       "       [5.8, 2.6, 4. , 1.2, nan, 2. ],\n",
       "       [5. , 2.3, 3.3, 1. , nan, 2. ],\n",
       "       [5.6, 2.7, 4.2, 1.3, nan, 2. ],\n",
       "       [5.7, 3. , 4.2, 1.2, nan, 2. ],\n",
       "       [5.7, 2.9, 4.2, 1.3, nan, 2. ],\n",
       "       [6.2, 2.9, 4.3, 1.3, nan, 2. ],\n",
       "       [5.1, 2.5, 3. , 1.1, nan, 2. ],\n",
       "       [5.7, 2.8, 4.1, 1.3, nan, 2. ],\n",
       "       [6.3, 3.3, 6. , 2.5, nan, 3. ],\n",
       "       [5.8, 2.7, 5.1, 1.9, nan, 3. ],\n",
       "       [7.1, 3. , 5.9, 2.1, nan, 3. ],\n",
       "       [6.3, 2.9, 5.6, 1.8, nan, 3. ],\n",
       "       [6.5, 3. , 5.8, 2.2, nan, 3. ],\n",
       "       [7.6, 3. , 6.6, 2.1, nan, 3. ],\n",
       "       [4.9, 2.5, 4.5, 1.7, nan, 3. ],\n",
       "       [7.3, 2.9, 6.3, 1.8, nan, 3. ],\n",
       "       [6.7, 2.5, 5.8, 1.8, nan, 3. ],\n",
       "       [7.2, 3.6, 6.1, 2.5, nan, 3. ],\n",
       "       [6.5, 3.2, 5.1, 2. , nan, 3. ],\n",
       "       [6.4, 2.7, 5.3, 1.9, nan, 3. ],\n",
       "       [6.8, 3. , 5.5, 2.1, nan, 3. ],\n",
       "       [5.7, 2.5, 5. , 2. , nan, 3. ],\n",
       "       [5.8, 2.8, 5.1, 2.4, nan, 3. ],\n",
       "       [6.4, 3.2, 5.3, 2.3, nan, 3. ],\n",
       "       [6.5, 3. , 5.5, 1.8, nan, 3. ],\n",
       "       [7.7, 3.8, 6.7, 2.2, nan, 3. ],\n",
       "       [7.7, 2.6, 6.9, 2.3, nan, 3. ],\n",
       "       [6. , 2.2, 5. , 1.5, nan, 3. ],\n",
       "       [6.9, 3.2, 5.7, 2.3, nan, 3. ],\n",
       "       [5.6, 2.8, 4.9, 2. , nan, 3. ],\n",
       "       [7.7, 2.8, 6.7, 2. , nan, 3. ],\n",
       "       [6.3, 2.7, 4.9, 1.8, nan, 3. ],\n",
       "       [6.7, 3.3, 5.7, 2.1, nan, 3. ],\n",
       "       [7.2, 3.2, 6. , 1.8, nan, 3. ],\n",
       "       [6.2, 2.8, 4.8, 1.8, nan, 3. ],\n",
       "       [6.1, 3. , 4.9, 1.8, nan, 3. ],\n",
       "       [6.4, 2.8, 5.6, 2.1, nan, 3. ],\n",
       "       [7.2, 3. , 5.8, 1.6, nan, 3. ],\n",
       "       [7.4, 2.8, 6.1, 1.9, nan, 3. ],\n",
       "       [7.9, 3.8, 6.4, 2. , nan, 3. ],\n",
       "       [6.4, 2.8, 5.6, 2.2, nan, 3. ],\n",
       "       [6.3, 2.8, 5.1, 1.5, nan, 3. ],\n",
       "       [6.1, 2.6, 5.6, 1.4, nan, 3. ],\n",
       "       [7.7, 3. , 6.1, 2.3, nan, 3. ],\n",
       "       [6.3, 3.4, 5.6, 2.4, nan, 3. ],\n",
       "       [6.4, 3.1, 5.5, 1.8, nan, 3. ],\n",
       "       [6. , 3. , 4.8, 1.8, nan, 3. ],\n",
       "       [6.9, 3.1, 5.4, 2.1, nan, 3. ],\n",
       "       [6.7, 3.1, 5.6, 2.4, nan, 3. ],\n",
       "       [6.9, 3.1, 5.1, 2.3, nan, 3. ],\n",
       "       [5.8, 2.7, 5.1, 1.9, nan, 3. ],\n",
       "       [6.8, 3.2, 5.9, 2.3, nan, 3. ],\n",
       "       [6.7, 3.3, 5.7, 2.5, nan, 3. ],\n",
       "       [6.7, 3. , 5.2, 2.3, nan, 3. ],\n",
       "       [6.3, 2.5, 5. , 1.9, nan, 3. ],\n",
       "       [6.5, 3. , 5.2, 2. , nan, 3. ],\n",
       "       [6.2, 3.4, 5.4, 2.3, nan, 3. ],\n",
       "       [5.9, 3. , 5.1, 1.8, nan, 3. ]])"
      ]
     },
     "execution_count": 7,
     "metadata": {},
     "output_type": "execute_result"
    }
   ],
   "source": [
    "iris"
   ]
  },
  {
   "cell_type": "markdown",
   "metadata": {},
   "source": [
    "# Drop col index no.4"
   ]
  },
  {
   "cell_type": "code",
   "execution_count": 8,
   "metadata": {},
   "outputs": [
    {
     "data": {
      "text/plain": [
       "array([[5.1, 3.5, 1.4, 0.2, 1. ],\n",
       "       [4.9, 3. , 1.4, 0.2, 1. ],\n",
       "       [4.7, 3.2, 1.3, 0.2, 1. ],\n",
       "       [4.6, 3.1, 1.5, 0.2, 1. ],\n",
       "       [5. , 3.6, 1.4, 0.2, 1. ],\n",
       "       [5.4, 3.9, 1.7, 0.4, 1. ],\n",
       "       [4.6, 3.4, 1.4, 0.3, 1. ],\n",
       "       [5. , 3.4, 1.5, 0.2, 1. ],\n",
       "       [4.4, 2.9, 1.4, 0.2, 1. ],\n",
       "       [4.9, 3.1, 1.5, 0.1, 1. ],\n",
       "       [5.4, 3.7, 1.5, 0.2, 1. ],\n",
       "       [4.8, 3.4, 1.6, 0.2, 1. ],\n",
       "       [4.8, 3. , 1.4, 0.1, 1. ],\n",
       "       [4.3, 3. , 1.1, 0.1, 1. ],\n",
       "       [5.8, 4. , 1.2, 0.2, 1. ],\n",
       "       [5.7, 4.4, 1.5, 0.4, 1. ],\n",
       "       [5.4, 3.9, 1.3, 0.4, 1. ],\n",
       "       [5.1, 3.5, 1.4, 0.3, 1. ],\n",
       "       [5.7, 3.8, 1.7, 0.3, 1. ],\n",
       "       [5.1, 3.8, 1.5, 0.3, 1. ],\n",
       "       [5.4, 3.4, 1.7, 0.2, 1. ],\n",
       "       [5.1, 3.7, 1.5, 0.4, 1. ],\n",
       "       [4.6, 3.6, 1. , 0.2, 1. ],\n",
       "       [5.1, 3.3, 1.7, 0.5, 1. ],\n",
       "       [4.8, 3.4, 1.9, 0.2, 1. ],\n",
       "       [5. , 3. , 1.6, 0.2, 1. ],\n",
       "       [5. , 3.4, 1.6, 0.4, 1. ],\n",
       "       [5.2, 3.5, 1.5, 0.2, 1. ],\n",
       "       [5.2, 3.4, 1.4, 0.2, 1. ],\n",
       "       [4.7, 3.2, 1.6, 0.2, 1. ],\n",
       "       [4.8, 3.1, 1.6, 0.2, 1. ],\n",
       "       [5.4, 3.4, 1.5, 0.4, 1. ],\n",
       "       [5.2, 4.1, 1.5, 0.1, 1. ],\n",
       "       [5.5, 4.2, 1.4, 0.2, 1. ],\n",
       "       [4.9, 3.1, 1.5, 0.1, 1. ],\n",
       "       [5. , 3.2, 1.2, 0.2, 1. ],\n",
       "       [5.5, 3.5, 1.3, 0.2, 1. ],\n",
       "       [4.9, 3.1, 1.5, 0.1, 1. ],\n",
       "       [4.4, 3. , 1.3, 0.2, 1. ],\n",
       "       [5.1, 3.4, 1.5, 0.2, 1. ],\n",
       "       [5. , 3.5, 1.3, 0.3, 1. ],\n",
       "       [4.5, 2.3, 1.3, 0.3, 1. ],\n",
       "       [4.4, 3.2, 1.3, 0.2, 1. ],\n",
       "       [5. , 3.5, 1.6, 0.6, 1. ],\n",
       "       [5.1, 3.8, 1.9, 0.4, 1. ],\n",
       "       [4.8, 3. , 1.4, 0.3, 1. ],\n",
       "       [5.1, 3.8, 1.6, 0.2, 1. ],\n",
       "       [4.6, 3.2, 1.4, 0.2, 1. ],\n",
       "       [5.3, 3.7, 1.5, 0.2, 1. ],\n",
       "       [5. , 3.3, 1.4, 0.2, 1. ],\n",
       "       [7. , 3.2, 4.7, 1.4, 2. ],\n",
       "       [6.4, 3.2, 4.5, 1.5, 2. ],\n",
       "       [6.9, 3.1, 4.9, 1.5, 2. ],\n",
       "       [5.5, 2.3, 4. , 1.3, 2. ],\n",
       "       [6.5, 2.8, 4.6, 1.5, 2. ],\n",
       "       [5.7, 2.8, 4.5, 1.3, 2. ],\n",
       "       [6.3, 3.3, 4.7, 1.6, 2. ],\n",
       "       [4.9, 2.4, 3.3, 1. , 2. ],\n",
       "       [6.6, 2.9, 4.6, 1.3, 2. ],\n",
       "       [5.2, 2.7, 3.9, 1.4, 2. ],\n",
       "       [5. , 2. , 3.5, 1. , 2. ],\n",
       "       [5.9, 3. , 4.2, 1.5, 2. ],\n",
       "       [6. , 2.2, 4. , 1. , 2. ],\n",
       "       [6.1, 2.9, 4.7, 1.4, 2. ],\n",
       "       [5.6, 2.9, 3.6, 1.3, 2. ],\n",
       "       [6.7, 3.1, 4.4, 1.4, 2. ],\n",
       "       [5.6, 3. , 4.5, 1.5, 2. ],\n",
       "       [5.8, 2.7, 4.1, 1. , 2. ],\n",
       "       [6.2, 2.2, 4.5, 1.5, 2. ],\n",
       "       [5.6, 2.5, 3.9, 1.1, 2. ],\n",
       "       [5.9, 3.2, 4.8, 1.8, 2. ],\n",
       "       [6.1, 2.8, 4. , 1.3, 2. ],\n",
       "       [6.3, 2.5, 4.9, 1.5, 2. ],\n",
       "       [6.1, 2.8, 4.7, 1.2, 2. ],\n",
       "       [6.4, 2.9, 4.3, 1.3, 2. ],\n",
       "       [6.6, 3. , 4.4, 1.4, 2. ],\n",
       "       [6.8, 2.8, 4.8, 1.4, 2. ],\n",
       "       [6.7, 3. , 5. , 1.7, 2. ],\n",
       "       [6. , 2.9, 4.5, 1.5, 2. ],\n",
       "       [5.7, 2.6, 3.5, 1. , 2. ],\n",
       "       [5.5, 2.4, 3.8, 1.1, 2. ],\n",
       "       [5.5, 2.4, 3.7, 1. , 2. ],\n",
       "       [5.8, 2.7, 3.9, 1.2, 2. ],\n",
       "       [6. , 2.7, 5.1, 1.6, 2. ],\n",
       "       [5.4, 3. , 4.5, 1.5, 2. ],\n",
       "       [6. , 3.4, 4.5, 1.6, 2. ],\n",
       "       [6.7, 3.1, 4.7, 1.5, 2. ],\n",
       "       [6.3, 2.3, 4.4, 1.3, 2. ],\n",
       "       [5.6, 3. , 4.1, 1.3, 2. ],\n",
       "       [5.5, 2.5, 4. , 1.3, 2. ],\n",
       "       [5.5, 2.6, 4.4, 1.2, 2. ],\n",
       "       [6.1, 3. , 4.6, 1.4, 2. ],\n",
       "       [5.8, 2.6, 4. , 1.2, 2. ],\n",
       "       [5. , 2.3, 3.3, 1. , 2. ],\n",
       "       [5.6, 2.7, 4.2, 1.3, 2. ],\n",
       "       [5.7, 3. , 4.2, 1.2, 2. ],\n",
       "       [5.7, 2.9, 4.2, 1.3, 2. ],\n",
       "       [6.2, 2.9, 4.3, 1.3, 2. ],\n",
       "       [5.1, 2.5, 3. , 1.1, 2. ],\n",
       "       [5.7, 2.8, 4.1, 1.3, 2. ],\n",
       "       [6.3, 3.3, 6. , 2.5, 3. ],\n",
       "       [5.8, 2.7, 5.1, 1.9, 3. ],\n",
       "       [7.1, 3. , 5.9, 2.1, 3. ],\n",
       "       [6.3, 2.9, 5.6, 1.8, 3. ],\n",
       "       [6.5, 3. , 5.8, 2.2, 3. ],\n",
       "       [7.6, 3. , 6.6, 2.1, 3. ],\n",
       "       [4.9, 2.5, 4.5, 1.7, 3. ],\n",
       "       [7.3, 2.9, 6.3, 1.8, 3. ],\n",
       "       [6.7, 2.5, 5.8, 1.8, 3. ],\n",
       "       [7.2, 3.6, 6.1, 2.5, 3. ],\n",
       "       [6.5, 3.2, 5.1, 2. , 3. ],\n",
       "       [6.4, 2.7, 5.3, 1.9, 3. ],\n",
       "       [6.8, 3. , 5.5, 2.1, 3. ],\n",
       "       [5.7, 2.5, 5. , 2. , 3. ],\n",
       "       [5.8, 2.8, 5.1, 2.4, 3. ],\n",
       "       [6.4, 3.2, 5.3, 2.3, 3. ],\n",
       "       [6.5, 3. , 5.5, 1.8, 3. ],\n",
       "       [7.7, 3.8, 6.7, 2.2, 3. ],\n",
       "       [7.7, 2.6, 6.9, 2.3, 3. ],\n",
       "       [6. , 2.2, 5. , 1.5, 3. ],\n",
       "       [6.9, 3.2, 5.7, 2.3, 3. ],\n",
       "       [5.6, 2.8, 4.9, 2. , 3. ],\n",
       "       [7.7, 2.8, 6.7, 2. , 3. ],\n",
       "       [6.3, 2.7, 4.9, 1.8, 3. ],\n",
       "       [6.7, 3.3, 5.7, 2.1, 3. ],\n",
       "       [7.2, 3.2, 6. , 1.8, 3. ],\n",
       "       [6.2, 2.8, 4.8, 1.8, 3. ],\n",
       "       [6.1, 3. , 4.9, 1.8, 3. ],\n",
       "       [6.4, 2.8, 5.6, 2.1, 3. ],\n",
       "       [7.2, 3. , 5.8, 1.6, 3. ],\n",
       "       [7.4, 2.8, 6.1, 1.9, 3. ],\n",
       "       [7.9, 3.8, 6.4, 2. , 3. ],\n",
       "       [6.4, 2.8, 5.6, 2.2, 3. ],\n",
       "       [6.3, 2.8, 5.1, 1.5, 3. ],\n",
       "       [6.1, 2.6, 5.6, 1.4, 3. ],\n",
       "       [7.7, 3. , 6.1, 2.3, 3. ],\n",
       "       [6.3, 3.4, 5.6, 2.4, 3. ],\n",
       "       [6.4, 3.1, 5.5, 1.8, 3. ],\n",
       "       [6. , 3. , 4.8, 1.8, 3. ],\n",
       "       [6.9, 3.1, 5.4, 2.1, 3. ],\n",
       "       [6.7, 3.1, 5.6, 2.4, 3. ],\n",
       "       [6.9, 3.1, 5.1, 2.3, 3. ],\n",
       "       [5.8, 2.7, 5.1, 1.9, 3. ],\n",
       "       [6.8, 3.2, 5.9, 2.3, 3. ],\n",
       "       [6.7, 3.3, 5.7, 2.5, 3. ],\n",
       "       [6.7, 3. , 5.2, 2.3, 3. ],\n",
       "       [6.3, 2.5, 5. , 1.9, 3. ],\n",
       "       [6.5, 3. , 5.2, 2. , 3. ],\n",
       "       [6.2, 3.4, 5.4, 2.3, 3. ],\n",
       "       [5.9, 3. , 5.1, 1.8, 3. ]])"
      ]
     },
     "execution_count": 8,
     "metadata": {},
     "output_type": "execute_result"
    }
   ],
   "source": [
    "iris = iris [0:150,[0,1,2,3,5]]\n",
    "iris"
   ]
  },
  {
   "cell_type": "markdown",
   "metadata": {},
   "source": [
    "# Display the shape, dimensions and size of iris"
   ]
  },
  {
   "cell_type": "code",
   "execution_count": 9,
   "metadata": {},
   "outputs": [
    {
     "data": {
      "text/plain": [
       "(150, 5)"
      ]
     },
     "execution_count": 9,
     "metadata": {},
     "output_type": "execute_result"
    }
   ],
   "source": [
    "iris.shape"
   ]
  },
  {
   "cell_type": "code",
   "execution_count": 10,
   "metadata": {},
   "outputs": [
    {
     "data": {
      "text/plain": [
       "2"
      ]
     },
     "execution_count": 10,
     "metadata": {},
     "output_type": "execute_result"
    }
   ],
   "source": [
    "iris.ndim"
   ]
  },
  {
   "cell_type": "code",
   "execution_count": 11,
   "metadata": {},
   "outputs": [
    {
     "data": {
      "text/plain": [
       "750"
      ]
     },
     "execution_count": 11,
     "metadata": {},
     "output_type": "execute_result"
    }
   ],
   "source": [
    "iris.size"
   ]
  },
  {
   "cell_type": "markdown",
   "metadata": {},
   "source": [
    "# Split iris to iris1, iris2, and iris3"
   ]
  },
  {
   "cell_type": "code",
   "execution_count": 12,
   "metadata": {},
   "outputs": [],
   "source": [
    "iris1, iris2, iris3 =np.split(iris,[50,100], axis=0)"
   ]
  },
  {
   "cell_type": "code",
   "execution_count": 13,
   "metadata": {},
   "outputs": [
    {
     "data": {
      "text/plain": [
       "array([[5.1, 3.5, 1.4, 0.2, 1. ],\n",
       "       [4.9, 3. , 1.4, 0.2, 1. ],\n",
       "       [4.7, 3.2, 1.3, 0.2, 1. ],\n",
       "       [4.6, 3.1, 1.5, 0.2, 1. ],\n",
       "       [5. , 3.6, 1.4, 0.2, 1. ],\n",
       "       [5.4, 3.9, 1.7, 0.4, 1. ],\n",
       "       [4.6, 3.4, 1.4, 0.3, 1. ],\n",
       "       [5. , 3.4, 1.5, 0.2, 1. ],\n",
       "       [4.4, 2.9, 1.4, 0.2, 1. ],\n",
       "       [4.9, 3.1, 1.5, 0.1, 1. ],\n",
       "       [5.4, 3.7, 1.5, 0.2, 1. ],\n",
       "       [4.8, 3.4, 1.6, 0.2, 1. ],\n",
       "       [4.8, 3. , 1.4, 0.1, 1. ],\n",
       "       [4.3, 3. , 1.1, 0.1, 1. ],\n",
       "       [5.8, 4. , 1.2, 0.2, 1. ],\n",
       "       [5.7, 4.4, 1.5, 0.4, 1. ],\n",
       "       [5.4, 3.9, 1.3, 0.4, 1. ],\n",
       "       [5.1, 3.5, 1.4, 0.3, 1. ],\n",
       "       [5.7, 3.8, 1.7, 0.3, 1. ],\n",
       "       [5.1, 3.8, 1.5, 0.3, 1. ],\n",
       "       [5.4, 3.4, 1.7, 0.2, 1. ],\n",
       "       [5.1, 3.7, 1.5, 0.4, 1. ],\n",
       "       [4.6, 3.6, 1. , 0.2, 1. ],\n",
       "       [5.1, 3.3, 1.7, 0.5, 1. ],\n",
       "       [4.8, 3.4, 1.9, 0.2, 1. ],\n",
       "       [5. , 3. , 1.6, 0.2, 1. ],\n",
       "       [5. , 3.4, 1.6, 0.4, 1. ],\n",
       "       [5.2, 3.5, 1.5, 0.2, 1. ],\n",
       "       [5.2, 3.4, 1.4, 0.2, 1. ],\n",
       "       [4.7, 3.2, 1.6, 0.2, 1. ],\n",
       "       [4.8, 3.1, 1.6, 0.2, 1. ],\n",
       "       [5.4, 3.4, 1.5, 0.4, 1. ],\n",
       "       [5.2, 4.1, 1.5, 0.1, 1. ],\n",
       "       [5.5, 4.2, 1.4, 0.2, 1. ],\n",
       "       [4.9, 3.1, 1.5, 0.1, 1. ],\n",
       "       [5. , 3.2, 1.2, 0.2, 1. ],\n",
       "       [5.5, 3.5, 1.3, 0.2, 1. ],\n",
       "       [4.9, 3.1, 1.5, 0.1, 1. ],\n",
       "       [4.4, 3. , 1.3, 0.2, 1. ],\n",
       "       [5.1, 3.4, 1.5, 0.2, 1. ],\n",
       "       [5. , 3.5, 1.3, 0.3, 1. ],\n",
       "       [4.5, 2.3, 1.3, 0.3, 1. ],\n",
       "       [4.4, 3.2, 1.3, 0.2, 1. ],\n",
       "       [5. , 3.5, 1.6, 0.6, 1. ],\n",
       "       [5.1, 3.8, 1.9, 0.4, 1. ],\n",
       "       [4.8, 3. , 1.4, 0.3, 1. ],\n",
       "       [5.1, 3.8, 1.6, 0.2, 1. ],\n",
       "       [4.6, 3.2, 1.4, 0.2, 1. ],\n",
       "       [5.3, 3.7, 1.5, 0.2, 1. ],\n",
       "       [5. , 3.3, 1.4, 0.2, 1. ]])"
      ]
     },
     "execution_count": 13,
     "metadata": {},
     "output_type": "execute_result"
    }
   ],
   "source": [
    "iris1"
   ]
  },
  {
   "cell_type": "code",
   "execution_count": 14,
   "metadata": {},
   "outputs": [
    {
     "data": {
      "text/plain": [
       "array([[7. , 3.2, 4.7, 1.4, 2. ],\n",
       "       [6.4, 3.2, 4.5, 1.5, 2. ],\n",
       "       [6.9, 3.1, 4.9, 1.5, 2. ],\n",
       "       [5.5, 2.3, 4. , 1.3, 2. ],\n",
       "       [6.5, 2.8, 4.6, 1.5, 2. ],\n",
       "       [5.7, 2.8, 4.5, 1.3, 2. ],\n",
       "       [6.3, 3.3, 4.7, 1.6, 2. ],\n",
       "       [4.9, 2.4, 3.3, 1. , 2. ],\n",
       "       [6.6, 2.9, 4.6, 1.3, 2. ],\n",
       "       [5.2, 2.7, 3.9, 1.4, 2. ],\n",
       "       [5. , 2. , 3.5, 1. , 2. ],\n",
       "       [5.9, 3. , 4.2, 1.5, 2. ],\n",
       "       [6. , 2.2, 4. , 1. , 2. ],\n",
       "       [6.1, 2.9, 4.7, 1.4, 2. ],\n",
       "       [5.6, 2.9, 3.6, 1.3, 2. ],\n",
       "       [6.7, 3.1, 4.4, 1.4, 2. ],\n",
       "       [5.6, 3. , 4.5, 1.5, 2. ],\n",
       "       [5.8, 2.7, 4.1, 1. , 2. ],\n",
       "       [6.2, 2.2, 4.5, 1.5, 2. ],\n",
       "       [5.6, 2.5, 3.9, 1.1, 2. ],\n",
       "       [5.9, 3.2, 4.8, 1.8, 2. ],\n",
       "       [6.1, 2.8, 4. , 1.3, 2. ],\n",
       "       [6.3, 2.5, 4.9, 1.5, 2. ],\n",
       "       [6.1, 2.8, 4.7, 1.2, 2. ],\n",
       "       [6.4, 2.9, 4.3, 1.3, 2. ],\n",
       "       [6.6, 3. , 4.4, 1.4, 2. ],\n",
       "       [6.8, 2.8, 4.8, 1.4, 2. ],\n",
       "       [6.7, 3. , 5. , 1.7, 2. ],\n",
       "       [6. , 2.9, 4.5, 1.5, 2. ],\n",
       "       [5.7, 2.6, 3.5, 1. , 2. ],\n",
       "       [5.5, 2.4, 3.8, 1.1, 2. ],\n",
       "       [5.5, 2.4, 3.7, 1. , 2. ],\n",
       "       [5.8, 2.7, 3.9, 1.2, 2. ],\n",
       "       [6. , 2.7, 5.1, 1.6, 2. ],\n",
       "       [5.4, 3. , 4.5, 1.5, 2. ],\n",
       "       [6. , 3.4, 4.5, 1.6, 2. ],\n",
       "       [6.7, 3.1, 4.7, 1.5, 2. ],\n",
       "       [6.3, 2.3, 4.4, 1.3, 2. ],\n",
       "       [5.6, 3. , 4.1, 1.3, 2. ],\n",
       "       [5.5, 2.5, 4. , 1.3, 2. ],\n",
       "       [5.5, 2.6, 4.4, 1.2, 2. ],\n",
       "       [6.1, 3. , 4.6, 1.4, 2. ],\n",
       "       [5.8, 2.6, 4. , 1.2, 2. ],\n",
       "       [5. , 2.3, 3.3, 1. , 2. ],\n",
       "       [5.6, 2.7, 4.2, 1.3, 2. ],\n",
       "       [5.7, 3. , 4.2, 1.2, 2. ],\n",
       "       [5.7, 2.9, 4.2, 1.3, 2. ],\n",
       "       [6.2, 2.9, 4.3, 1.3, 2. ],\n",
       "       [5.1, 2.5, 3. , 1.1, 2. ],\n",
       "       [5.7, 2.8, 4.1, 1.3, 2. ]])"
      ]
     },
     "execution_count": 14,
     "metadata": {},
     "output_type": "execute_result"
    }
   ],
   "source": [
    "iris2"
   ]
  },
  {
   "cell_type": "markdown",
   "metadata": {},
   "source": [
    "# Create header"
   ]
  },
  {
   "cell_type": "code",
   "execution_count": 15,
   "metadata": {},
   "outputs": [],
   "source": [
    "header = np.array([['sepal length'],['sepal width'],['petal length'],['petal width'],['Species No']])"
   ]
  },
  {
   "cell_type": "code",
   "execution_count": 16,
   "metadata": {},
   "outputs": [
    {
     "data": {
      "text/plain": [
       "array([['sepal length'],\n",
       "       ['sepal width'],\n",
       "       ['petal length'],\n",
       "       ['petal width'],\n",
       "       ['Species No']], dtype='<U12')"
      ]
     },
     "execution_count": 16,
     "metadata": {},
     "output_type": "execute_result"
    }
   ],
   "source": [
    "header"
   ]
  },
  {
   "cell_type": "markdown",
   "metadata": {},
   "source": [
    "# Iris Descriptive Statistics"
   ]
  },
  {
   "cell_type": "code",
   "execution_count": 17,
   "metadata": {},
   "outputs": [
    {
     "data": {
      "text/plain": [
       "array([7.9, 4.4, 6.9, 2.5])"
      ]
     },
     "execution_count": 17,
     "metadata": {},
     "output_type": "execute_result"
    }
   ],
   "source": [
    "iris_max = iris[:,0:4].max(axis=0)\n",
    "iris_max"
   ]
  },
  {
   "cell_type": "code",
   "execution_count": 18,
   "metadata": {},
   "outputs": [
    {
     "data": {
      "text/plain": [
       "array([4.3, 2. , 1. , 0.1])"
      ]
     },
     "execution_count": 18,
     "metadata": {},
     "output_type": "execute_result"
    }
   ],
   "source": [
    "iris_min = iris[:,0:4].min(axis=0)\n",
    "iris_min"
   ]
  },
  {
   "cell_type": "code",
   "execution_count": 19,
   "metadata": {},
   "outputs": [
    {
     "data": {
      "text/plain": [
       "array([5.84, 3.05, 3.76, 1.2 ])"
      ]
     },
     "execution_count": 19,
     "metadata": {},
     "output_type": "execute_result"
    }
   ],
   "source": [
    "iris_avg = iris[:,0:4].mean(axis=0).round(2)\n",
    "iris_avg"
   ]
  },
  {
   "cell_type": "code",
   "execution_count": 20,
   "metadata": {},
   "outputs": [
    {
     "data": {
      "text/plain": [
       "array([0.83, 0.43, 1.76, 0.76])"
      ]
     },
     "execution_count": 20,
     "metadata": {},
     "output_type": "execute_result"
    }
   ],
   "source": [
    "iris_std = iris[:,0:4].std(axis=0).round(2)\n",
    "iris_std"
   ]
  },
  {
   "cell_type": "code",
   "execution_count": 21,
   "metadata": {},
   "outputs": [
    {
     "data": {
      "text/plain": [
       "array([0.68, 0.19, 3.09, 0.58])"
      ]
     },
     "execution_count": 21,
     "metadata": {},
     "output_type": "execute_result"
    }
   ],
   "source": [
    "iris_var = iris[:,0:4].var(axis=0).round(2)\n",
    "iris_var"
   ]
  },
  {
   "cell_type": "markdown",
   "metadata": {},
   "source": [
    "# iris1, iris2, and iris3 Descriptive Statistics"
   ]
  },
  {
   "cell_type": "code",
   "execution_count": 23,
   "metadata": {},
   "outputs": [
    {
     "data": {
      "text/plain": [
       "array([7. , 3.4, 5.1, 1.8])"
      ]
     },
     "execution_count": 23,
     "metadata": {},
     "output_type": "execute_result"
    }
   ],
   "source": [
    "iris1_max = iris2[:,0:4].max(axis=0)\n",
    "iris1_max"
   ]
  },
  {
   "cell_type": "code",
   "execution_count": 47,
   "metadata": {},
   "outputs": [
    {
     "data": {
      "text/plain": [
       "array([7. , 3.4, 5.1, 1.8])"
      ]
     },
     "execution_count": 47,
     "metadata": {},
     "output_type": "execute_result"
    }
   ],
   "source": [
    "iri2_max = iris2[:,0:4].max(axis=0)\n",
    "iri2_max"
   ]
  },
  {
   "cell_type": "code",
   "execution_count": 25,
   "metadata": {},
   "outputs": [
    {
     "data": {
      "text/plain": [
       "array([7.9, 3.8, 6.9, 2.5])"
      ]
     },
     "execution_count": 25,
     "metadata": {},
     "output_type": "execute_result"
    }
   ],
   "source": [
    "iris3_max = iris3[:,0:4].max(axis=0)\n",
    "iris3_max"
   ]
  },
  {
   "cell_type": "code",
   "execution_count": 26,
   "metadata": {},
   "outputs": [
    {
     "data": {
      "text/plain": [
       "array([4.3, 2.3, 1. , 0.1])"
      ]
     },
     "execution_count": 26,
     "metadata": {},
     "output_type": "execute_result"
    }
   ],
   "source": [
    "iris1_min = iris1[:,0:4].min(axis=0)\n",
    "iris1_min"
   ]
  },
  {
   "cell_type": "code",
   "execution_count": 27,
   "metadata": {},
   "outputs": [
    {
     "data": {
      "text/plain": [
       "array([4.9, 2. , 3. , 1. ])"
      ]
     },
     "execution_count": 27,
     "metadata": {},
     "output_type": "execute_result"
    }
   ],
   "source": [
    "iris2_min = iris2[:,0:4].min(axis=0)\n",
    "iris2_min"
   ]
  },
  {
   "cell_type": "code",
   "execution_count": 28,
   "metadata": {},
   "outputs": [
    {
     "data": {
      "text/plain": [
       "array([4.9, 2.2, 4.5, 1.4])"
      ]
     },
     "execution_count": 28,
     "metadata": {},
     "output_type": "execute_result"
    }
   ],
   "source": [
    "iris3_min = iris3[:,0:4].min(axis=0)\n",
    "iris3_min"
   ]
  },
  {
   "cell_type": "code",
   "execution_count": 31,
   "metadata": {},
   "outputs": [
    {
     "data": {
      "text/plain": [
       "array([5.01, 3.42, 1.46, 0.24])"
      ]
     },
     "execution_count": 31,
     "metadata": {},
     "output_type": "execute_result"
    }
   ],
   "source": [
    "iris1_avg = iris1[:,0:4].mean(axis=0).round(2)\n",
    "iris1_avg"
   ]
  },
  {
   "cell_type": "code",
   "execution_count": 33,
   "metadata": {},
   "outputs": [
    {
     "data": {
      "text/plain": [
       "array([5.94, 2.77, 4.26, 1.33])"
      ]
     },
     "execution_count": 33,
     "metadata": {},
     "output_type": "execute_result"
    }
   ],
   "source": [
    "iris2_avg = iris2[:,0:4].mean(axis=0).round(2)\n",
    "iris2_avg"
   ]
  },
  {
   "cell_type": "code",
   "execution_count": 34,
   "metadata": {},
   "outputs": [
    {
     "data": {
      "text/plain": [
       "array([6.59, 2.97, 5.55, 2.03])"
      ]
     },
     "execution_count": 34,
     "metadata": {},
     "output_type": "execute_result"
    }
   ],
   "source": [
    "iris3_avg = iris3[:,0:4].mean(axis=0).round(2)\n",
    "iris3_avg"
   ]
  },
  {
   "cell_type": "code",
   "execution_count": 35,
   "metadata": {},
   "outputs": [
    {
     "data": {
      "text/plain": [
       "array([0.35, 0.38, 0.17, 0.11])"
      ]
     },
     "execution_count": 35,
     "metadata": {},
     "output_type": "execute_result"
    }
   ],
   "source": [
    "iris1_std = iris1[:,0:4].std(axis=0).round(2)\n",
    "iris1_std"
   ]
  },
  {
   "cell_type": "code",
   "execution_count": 36,
   "metadata": {},
   "outputs": [
    {
     "data": {
      "text/plain": [
       "array([0.51, 0.31, 0.47, 0.2 ])"
      ]
     },
     "execution_count": 36,
     "metadata": {},
     "output_type": "execute_result"
    }
   ],
   "source": [
    "iris2_std = iris2[:,0:4].std(axis=0).round(2)\n",
    "iris2_std"
   ]
  },
  {
   "cell_type": "code",
   "execution_count": 37,
   "metadata": {},
   "outputs": [
    {
     "data": {
      "text/plain": [
       "array([0.63, 0.32, 0.55, 0.27])"
      ]
     },
     "execution_count": 37,
     "metadata": {},
     "output_type": "execute_result"
    }
   ],
   "source": [
    "iris3_std = iris3[:,0:4].std(axis=0).round(2)\n",
    "iris3_std"
   ]
  },
  {
   "cell_type": "code",
   "execution_count": 38,
   "metadata": {},
   "outputs": [
    {
     "data": {
      "text/plain": [
       "array([0.12, 0.14, 0.03, 0.01])"
      ]
     },
     "execution_count": 38,
     "metadata": {},
     "output_type": "execute_result"
    }
   ],
   "source": [
    "iris1_var = iris1[:,0:4].var(axis=0).round(2)\n",
    "iris1_var"
   ]
  },
  {
   "cell_type": "code",
   "execution_count": 39,
   "metadata": {},
   "outputs": [
    {
     "data": {
      "text/plain": [
       "array([0.26, 0.1 , 0.22, 0.04])"
      ]
     },
     "execution_count": 39,
     "metadata": {},
     "output_type": "execute_result"
    }
   ],
   "source": [
    "iris2_var = iris2[:,0:4].var(axis=0).round(2)\n",
    "iris2_var"
   ]
  },
  {
   "cell_type": "code",
   "execution_count": 40,
   "metadata": {},
   "outputs": [
    {
     "data": {
      "text/plain": [
       "array([0.4 , 0.1 , 0.3 , 0.07])"
      ]
     },
     "execution_count": 40,
     "metadata": {},
     "output_type": "execute_result"
    }
   ],
   "source": [
    "iris3_var = iris3[:,0:4].var(axis=0).round(2)\n",
    "iris3_var"
   ]
  },
  {
   "cell_type": "markdown",
   "metadata": {},
   "source": [
    "# Compare Iris setosa’s average sepal width to that of Iris virginica."
   ]
  },
  {
   "cell_type": "code",
   "execution_count": 42,
   "metadata": {},
   "outputs": [
    {
     "data": {
      "text/plain": [
       "True"
      ]
     },
     "execution_count": 42,
     "metadata": {},
     "output_type": "execute_result"
    }
   ],
   "source": [
    "iris1_avg[1] > iris3_avg[1]"
   ]
  },
  {
   "cell_type": "markdown",
   "metadata": {},
   "source": [
    "# Compare Iris setosa’s average petal length to that of Iris virginica."
   ]
  },
  {
   "cell_type": "code",
   "execution_count": 44,
   "metadata": {},
   "outputs": [
    {
     "data": {
      "text/plain": [
       "False"
      ]
     },
     "execution_count": 44,
     "metadata": {},
     "output_type": "execute_result"
    }
   ],
   "source": [
    "iris1_avg[3] > iris3_avg[3]"
   ]
  },
  {
   "cell_type": "markdown",
   "metadata": {},
   "source": [
    "# Save into IrisStat.txt"
   ]
  },
  {
   "cell_type": "code",
   "execution_count": 53,
   "metadata": {},
   "outputs": [],
   "source": [
    "np.savetxt('D:/numpy output project.txt',( iris1_max,iri2_max,iris3_max,iris1_avg,iris2_avg,iris3_avg,iris1_min,iris2_min,iris3_min,iris1_std,iris2_std,iris3_std,iris1_var,iris2_var,iris3_var),fmt='%s',delimiter=',')"
   ]
  }
 ],
 "metadata": {
  "kernelspec": {
   "display_name": "Python 3.10.5 64-bit",
   "language": "python",
   "name": "python3"
  },
  "language_info": {
   "codemirror_mode": {
    "name": "ipython",
    "version": 3
   },
   "file_extension": ".py",
   "mimetype": "text/x-python",
   "name": "python",
   "nbconvert_exporter": "python",
   "pygments_lexer": "ipython3",
   "version": "3.10.5"
  },
  "orig_nbformat": 4,
  "vscode": {
   "interpreter": {
    "hash": "7e78024f22b42a98b873ac11ecb09dc109d8c748e80854819f0a17b130789c52"
   }
  }
 },
 "nbformat": 4,
 "nbformat_minor": 2
}
